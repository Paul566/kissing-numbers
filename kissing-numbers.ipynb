{
 "cells": [
  {
   "cell_type": "code",
   "execution_count": 1,
   "id": "e7265dc5-376d-48c2-82c2-cc01b6c88e6f",
   "metadata": {},
   "outputs": [],
   "source": [
    "import numpy as np\n",
    "import matplotlib.pyplot as plt\n",
    "from scipy.spatial import SphericalVoronoi\n",
    "from src import *"
   ]
  },
  {
   "cell_type": "code",
   "execution_count": 2,
   "id": "c662098b-db33-4479-8ab8-751df9aa6215",
   "metadata": {},
   "outputs": [],
   "source": [
    "def annealing(func, X0, neighbor_func, temperature_schedule, max_iter, tol=1e-8):\n",
    "    current_solution = X0\n",
    "    current_objective = func(current_solution)\n",
    "    \n",
    "    best_solution = current_solution\n",
    "    best_objective = current_objective\n",
    "    \n",
    "    for t in range(max_iter):\n",
    "        temperature = temperature_schedule(t)\n",
    "\n",
    "        neighbor = neighbor_func(current_solution)\n",
    "        neighbor_objective = func(neighbor)\n",
    "        \n",
    "        delta = neighbor_objective - current_objective\n",
    "        acceptance_probability = np.exp(-delta / temperature) if delta > 0 else 1.0\n",
    "        \n",
    "        if np.random.rand() < acceptance_probability:\n",
    "            current_solution = neighbor\n",
    "            current_objective = neighbor_objective\n",
    "        \n",
    "        if current_objective < best_objective:\n",
    "            best_solution = current_solution\n",
    "            best_objective = current_objective\n",
    "            if current_objective < tol:\n",
    "                break\n",
    "\n",
    "        print(f\"temp: {temperature:.4f}, \\tcur_obj: {current_objective}, \\tbest_obj: {best_objective}\")\n",
    "    \n",
    "    return best_solution, best_objective"
   ]
  },
  {
   "cell_type": "code",
   "execution_count": 3,
   "id": "a35286d8-ed40-4d27-bef2-6b79c5929e4e",
   "metadata": {},
   "outputs": [],
   "source": [
    "def change_random_row(x):\n",
    "    index = np.random.randint(len(x))\n",
    "    r = 2 + np.random.randn() / 2\n",
    "    delta = np.random.randn(len(x[index]))\n",
    "    delta = delta / np.linalg.norm(delta) * r\n",
    "\n",
    "    new_x0 = x.copy()\n",
    "    new_x0[index] = new_x0[index] + delta\n",
    "\n",
    "    return renorm(new_x0)"
   ]
  },
  {
   "cell_type": "code",
   "execution_count": 4,
   "id": "d39b30c4-1e0c-4fc3-bfa3-635743cff02a",
   "metadata": {},
   "outputs": [],
   "source": [
    "def neighbor(x, gd_params=(300, 1e-6, 0.01, True)):\n",
    "    new_x0 = change_random_row(x)\n",
    "    return accelerated_gradient(func, grad, new_x0, *gd_params)"
   ]
  },
  {
   "cell_type": "code",
   "execution_count": 5,
   "id": "3a88f361-13be-4e7e-9c90-89e83c9582b5",
   "metadata": {},
   "outputs": [],
   "source": [
    "def neighbor_kdt(x, params=(10, 30, 500, 1e-6, 0.01, True)):\n",
    "    new_x0 = change_random_row(x)\n",
    "    return accelerated_gradient_kdt(func, new_x0, *params)"
   ]
  },
  {
   "cell_type": "code",
   "execution_count": 6,
   "id": "2009ea2f-0713-4611-8c9a-8987545541d9",
   "metadata": {},
   "outputs": [],
   "source": [
    "def temperature(iteration, max_iter, t_init, t_final):\n",
    "    return t_init - (t_init - t_final) * iteration / max_iter"
   ]
  },
  {
   "cell_type": "code",
   "execution_count": 7,
   "id": "0212802a-6cb1-4530-8c29-6eefa55d84e9",
   "metadata": {},
   "outputs": [],
   "source": [
    "def k_opt_step(func, x, k, params, tol=1e-6, silent=False):\n",
    "    # also returns if the search was successful\n",
    "    \n",
    "    current_obj = func(x)\n",
    "\n",
    "    for i in range(len(x)**k):\n",
    "        candidate = x.copy()\n",
    "        for j in range(k):\n",
    "            candidate = change_random_row(candidate)\n",
    "        # candidate = accelerated_gradient(func, grad, candidate, *gd_params)\n",
    "        candidate = accelerated_gradient_kdt(func, candidate, *params)\n",
    "        if func(candidate) < current_obj - tol:\n",
    "            return candidate, True\n",
    "\n",
    "        if not silent and i > 0:\n",
    "            if i % 100 == 0:\n",
    "                print(f\"i = {i} \\tout of {len(x)**k}\")\n",
    "\n",
    "    return x, False"
   ]
  },
  {
   "cell_type": "code",
   "execution_count": 8,
   "id": "7a4ad06a-a78b-414b-a255-8141eef4e4ea",
   "metadata": {},
   "outputs": [],
   "source": [
    "def multiopt(func, x0, params, tol=1e-6):\n",
    "    x = x0.copy()\n",
    "    cur_obj = func(x)\n",
    "\n",
    "    k = 1\n",
    "    \n",
    "    while cur_obj > tol:\n",
    "        if func(x) < tol:\n",
    "            break\n",
    "        print(f\"k: {k}, \\tcur_obj: {func(x):.8f}\")\n",
    "        \n",
    "        x, succ = k_opt_step(func, x, k, params)\n",
    "        if not succ:\n",
    "            k += 1\n",
    "        else:\n",
    "            k = 1\n",
    "\n",
    "    return x"
   ]
  },
  {
   "cell_type": "code",
   "execution_count": 9,
   "id": "0f825ec2-2b28-4408-9731-9c26045e45ec",
   "metadata": {},
   "outputs": [],
   "source": [
    "n = 11\n",
    "N = 400\n",
    "X0 = renorm(np.random.randn(N,n))"
   ]
  },
  {
   "cell_type": "markdown",
   "id": "a2186bd0-d2d6-4072-a1fc-836b214bc945",
   "metadata": {},
   "source": [
    "sol = multiopt(func, X0, (10, 30, 500, 1e-6, 0.01, True))\n",
    "func(sol), sol"
   ]
  },
  {
   "cell_type": "code",
   "execution_count": 10,
   "id": "24efd3d8-b5b4-46b2-8c59-9a1fff98529e",
   "metadata": {},
   "outputs": [],
   "source": [
    "max_iter = 100\n",
    "t_max = 0.1\n",
    "t_min = 0"
   ]
  },
  {
   "cell_type": "markdown",
   "id": "d0830feb-3948-4899-9f00-1b00498ec29f",
   "metadata": {},
   "source": [
    "sol, obj = annealing(func, X0, neighbor, lambda t: temperature(t, max_iter, t_max, t_min), max_iter)\n",
    "func(sol), sol"
   ]
  },
  {
   "cell_type": "code",
   "execution_count": null,
   "id": "497dfcab-1191-4489-b942-6dd1cf4c120a",
   "metadata": {},
   "outputs": [],
   "source": []
  },
  {
   "cell_type": "code",
   "execution_count": null,
   "id": "3ec13bd1-cb94-42bb-afbe-56285fc03f58",
   "metadata": {},
   "outputs": [],
   "source": []
  },
  {
   "cell_type": "code",
   "execution_count": null,
   "id": "adc3928d-9bb3-4c79-8562-e7cc8743a1ed",
   "metadata": {},
   "outputs": [],
   "source": []
  },
  {
   "cell_type": "code",
   "execution_count": 11,
   "id": "3face27c-ebf9-430c-825e-27584c8c4440",
   "metadata": {},
   "outputs": [],
   "source": [
    "n = 2\n",
    "N = 6\n",
    "X0 = renorm(np.random.randn(N,n))"
   ]
  },
  {
   "cell_type": "code",
   "execution_count": 12,
   "id": "eb5bf157-b6c6-4e04-8e75-0a488f5a8d94",
   "metadata": {},
   "outputs": [],
   "source": [
    "sv = SphericalVoronoi(X0, 1, np.zeros_like(X0[0]))"
   ]
  },
  {
   "cell_type": "code",
   "execution_count": 13,
   "id": "0fe7e46a-4388-41f9-9e0b-132190cb480e",
   "metadata": {},
   "outputs": [
    {
     "data": {
      "text/plain": [
       "(-1.1, 1.1)"
      ]
     },
     "execution_count": 13,
     "metadata": {},
     "output_type": "execute_result"
    },
    {
     "data": {
      "text/plain": [
       "<Figure size 700x700 with 0 Axes>"
      ]
     },
     "metadata": {},
     "output_type": "display_data"
    },
    {
     "data": {
      "image/png": "[encoded data removed]",
      "text/plain": [
       "<Figure size 640x480 with 1 Axes>"
      ]
     },
     "metadata": {},
     "output_type": "display_data"
    }
   ],
   "source": [
    "plt.figure(figsize=(7,7))\n",
    "fig, ax = plt.subplots()\n",
    "ax.set_aspect(1)\n",
    "circle = plt.Circle((0, 0), 1, fill=False)\n",
    "ax.add_patch(circle)\n",
    "plt.scatter(X0[:,0], X0[:,1], c='r')\n",
    "plt.scatter(sv.vertices[:,0], sv.vertices[:,1], c='g')\n",
    "plt.xlim(-1.1, 1.1)\n",
    "plt.ylim(-1.1, 1.1)"
   ]
  },
  {
   "cell_type": "code",
   "execution_count": null,
   "id": "56d45872-200e-452e-a6df-439656fd4658",
   "metadata": {},
   "outputs": [],
   "source": []
  },
  {
   "cell_type": "code",
   "execution_count": null,
   "id": "7b935bee-96be-4d24-97cd-c4ae904da9d5",
   "metadata": {},
   "outputs": [],
   "source": []
  },
  {
   "cell_type": "code",
   "execution_count": null,
   "id": "6e2f3ee4-ad53-40a6-a9b6-886c4ca4209a",
   "metadata": {},
   "outputs": [],
   "source": []
  },
  {
   "cell_type": "code",
   "execution_count": null,
   "id": "4ae8837f-44a2-4e91-a92d-131666147f98",
   "metadata": {},
   "outputs": [],
   "source": []
  },
  {
   "cell_type": "code",
   "execution_count": 24,
   "id": "a38d7456-18d7-44d2-85ba-bf81dbcf7e4b",
   "metadata": {},
   "outputs": [],
   "source": [
    "def sample_potential_minimums(X, num_points, params=(100, 1e-4, 0.03, True)):\n",
    "    points = np.random.randn(num_points, X.shape[1])\n",
    "    return accelerated_gradient(lambda p: np.sum(potentials_in_points(X, p)), lambda p: grad_potentials(X, p), points, *params)"
   ]
  },
  {
   "cell_type": "code",
   "execution_count": null,
   "id": "fdca4098-ff88-4b08-bb40-5011fae4b6d3",
   "metadata": {},
   "outputs": [],
   "source": []
  },
  {
   "cell_type": "code",
   "execution_count": 19,
   "id": "698452f6-3be2-4cc9-8325-59291644410c",
   "metadata": {},
   "outputs": [],
   "source": [
    "def smart_k_opt(func, x, k, num_tries, t_max, params, tol=1e-6, silent=False):\n",
    "    # also returns if the search was successful\n",
    "    \n",
    "    current_obj = func(x)\n",
    "    sv = SphericalVoronoi(x, 1, np.zeros_like(x[0]))\n",
    "    sv_vertices = sv.vertices\n",
    "    \n",
    "    # potentials_x = potentials(x)\n",
    "    # potentials_x = np.maximum(0, potentials(x))\n",
    "    # potentials_x = potentials_x / np.max(potentials_x)\n",
    "\n",
    "    tree = KDTree(x)\n",
    "\n",
    "    closest_dists, _ = tree.query(x, k=1)\n",
    "    potentials_x = np.maximum(0, 1 - closest_dists)\n",
    "    potentials_x = potentials_x / np.max(potentials_x)\n",
    "    \n",
    "    potentials_vertices = np.maximum(0, potentials_in_points(x, sv_vertices))\n",
    "    potentials_vertices = potentials_vertices / np.max(potentials_vertices)\n",
    "\n",
    "    for i in range(num_tries):\n",
    "        probas_x = np.exp(potentials_x * t_max * (num_tries - i) / num_tries)\n",
    "        probas_x = probas_x / np.sum(probas_x)\n",
    "        probas_vertices = np.exp(- potentials_vertices * t_max * (num_tries - i) / num_tries)\n",
    "        probas_vertices = probas_vertices / np.sum(probas_vertices)\n",
    "        \n",
    "        candidate = x.copy()\n",
    "        index_x = np.random.choice(np.arange(len(x)), k, p=probas_x, replace=False)\n",
    "        np.random.shuffle(index_x)\n",
    "        index_vertex = np.random.choice(np.arange(len(sv_vertices)), k, p=probas_vertices, replace=False)\n",
    "        np.random.shuffle(index_vertex)\n",
    "        candidate[index_x] = sv_vertices[index_vertex].copy()\n",
    "        candidate = accelerated_gradient_kdt(func, candidate, *params)\n",
    "        if func(candidate) < current_obj - tol:\n",
    "            print(f\"success at iteration {i}\")\n",
    "            return candidate, True\n",
    "\n",
    "        if not silent and i > 0:\n",
    "            if i % 100 == 0:\n",
    "                print(f\"i = {i} \\tout of {num_tries}\")\n",
    "\n",
    "    print(f\"no success after {num_tries} iterations\")\n",
    "    return x, False"
   ]
  },
  {
   "cell_type": "code",
   "execution_count": 20,
   "id": "0bd9647a-ec90-41ba-a679-813d6791ab9a",
   "metadata": {},
   "outputs": [],
   "source": [
    "def smart_multiopt(func, x0, ceiling_iters, t_max, params, tol=1e-6):\n",
    "    x = x0.copy()\n",
    "    cur_obj = func(x)\n",
    "\n",
    "    k = 1\n",
    "    \n",
    "    while cur_obj > tol:\n",
    "        if func(x) < tol:\n",
    "            break\n",
    "        print(f\"k: {k}, \\tcur_obj: {func(x):.8f}\")\n",
    "\n",
    "        \n",
    "        x, succ = smart_k_opt(func, x, k, np.minimum(ceiling_iters, len(x0)**np.minimum(k, 2)), t_max, params)\n",
    "        if not succ:\n",
    "            k += 1\n",
    "        else:\n",
    "            k = 1\n",
    "\n",
    "    return x"
   ]
  },
  {
   "cell_type": "code",
   "execution_count": 21,
   "id": "e08bb3b7-6e20-4b95-a5eb-0eb111d44df3",
   "metadata": {},
   "outputs": [],
   "source": [
    "n = 5\n",
    "N = 38\n",
    "X0 = renorm(np.random.randn(N,n))"
   ]
  },
  {
   "cell_type": "code",
   "execution_count": 22,
   "id": "f0ee1334-f3fd-42a9-af14-891fcd665528",
   "metadata": {},
   "outputs": [
    {
     "name": "stdout",
     "output_type": "stream",
     "text": [
      "CPU times: user 11.2 ms, sys: 1.9 ms, total: 13.1 ms\n",
      "Wall time: 11 ms\n"
     ]
    },
    {
     "data": {
      "text/plain": [
       "506"
      ]
     },
     "execution_count": 22,
     "metadata": {},
     "output_type": "execute_result"
    }
   ],
   "source": [
    "%%time\n",
    "sv = SphericalVoronoi(X0, 1, np.zeros_like(X0[0]))\n",
    "len(sv.vertices)"
   ]
  },
  {
   "cell_type": "code",
   "execution_count": 23,
   "id": "e08f7d9d-a2b0-400b-b327-1b4d73363a49",
   "metadata": {},
   "outputs": [
    {
     "name": "stdout",
     "output_type": "stream",
     "text": [
      "k: 1, \tcur_obj: 20.91945918\n",
      "success at iteration 0\n",
      "k: 1, \tcur_obj: 0.03625459\n",
      "success at iteration 0\n",
      "k: 1, \tcur_obj: 0.00127960\n",
      "success at iteration 11\n",
      "k: 1, \tcur_obj: 0.00050642\n",
      "success at iteration 0\n",
      "k: 1, \tcur_obj: 0.00040966\n",
      "success at iteration 21\n",
      "k: 1, \tcur_obj: 0.00006304\n",
      "success at iteration 4\n",
      "k: 1, \tcur_obj: 0.00000749\n",
      "success at iteration 1\n",
      "k: 1, \tcur_obj: 0.00000136\n",
      "success at iteration 13\n",
      "CPU times: user 8.99 s, sys: 2.95 ms, total: 8.99 s\n",
      "Wall time: 8.99 s\n"
     ]
    },
    {
     "data": {
      "text/plain": [
       "(np.float64(5.374900524657278e-11),\n",
       " array([[-3.27397005e-01,  5.20776489e-02, -2.05514768e-01,\n",
       "         -4.20765750e-01, -8.19035399e-01],\n",
       "        [ 6.03766929e-01, -5.21178675e-01,  1.62704068e-01,\n",
       "          5.25709913e-01, -2.46971169e-01],\n",
       "        [ 7.31990734e-01,  2.34261482e-01, -3.50065375e-01,\n",
       "         -3.76744915e-01,  3.80563563e-01],\n",
       "        [ 7.91476166e-01, -2.39976361e-01,  4.59455625e-01,\n",
       "         -3.21860983e-01,  3.58170506e-02],\n",
       "        [ 1.24120018e-01,  3.56941759e-01, -4.77966167e-01,\n",
       "          3.63982229e-01, -7.04451618e-01],\n",
       "        [ 4.60326142e-02,  1.14970598e-01, -5.85659982e-02,\n",
       "          9.86085477e-01, -9.41712021e-02],\n",
       "        [ 7.36295331e-01, -1.63177110e-01, -3.57323388e-01,\n",
       "         -1.88860442e-01, -5.17584917e-01],\n",
       "        [ 3.41624990e-01,  5.80508449e-01,  5.41292046e-01,\n",
       "         -3.31362926e-01,  3.78819006e-01],\n",
       "        [-1.18243255e-01, -2.09860635e-01,  6.82854497e-01,\n",
       "         -6.62069437e-01,  1.93263661e-01],\n",
       "        [-3.38141392e-01,  5.00051697e-01, -6.53913499e-01,\n",
       "          4.30631701e-01,  1.50207100e-01],\n",
       "        [-2.19090568e-01, -3.93405260e-01,  1.10809761e-01,\n",
       "          4.09254034e-01, -7.85788748e-01],\n",
       "        [ 3.79074151e-01,  4.44612137e-01,  3.20726308e-01,\n",
       "         -1.73585989e-01, -7.25000259e-01],\n",
       "        [ 7.69487329e-02,  2.65641060e-01, -8.37547229e-01,\n",
       "         -4.29655189e-01, -1.93454844e-01],\n",
       "        [ 8.09194823e-01,  4.26594173e-01,  3.71593226e-02,\n",
       "          3.93711106e-01, -8.26553044e-02],\n",
       "        [-8.69150039e-02, -6.12332652e-01, -6.66688861e-01,\n",
       "         -7.39642386e-02, -4.09328426e-01],\n",
       "        [-6.42943377e-01, -3.79858238e-01, -3.62065652e-01,\n",
       "          5.57199706e-01, -2.77215578e-02],\n",
       "        [ 4.75071088e-01, -6.98371198e-02, -7.44944321e-01,\n",
       "          4.56217851e-01,  7.97086472e-02],\n",
       "        [-3.88114258e-03,  6.79585790e-01,  5.64874372e-01,\n",
       "          4.48897611e-01, -1.32498940e-01],\n",
       "        [ 1.38966896e-01,  9.58760488e-01, -2.00078060e-01,\n",
       "         -1.15584246e-01, -8.98642360e-02],\n",
       "        [-2.37028872e-01, -5.45738042e-01, -2.48036285e-01,\n",
       "         -7.42194866e-01,  1.83335992e-01],\n",
       "        [ 2.64356355e-01,  4.98944577e-01, -1.18837105e-01,\n",
       "          3.51722402e-01,  7.37115406e-01],\n",
       "        [-8.12469843e-01,  7.99882079e-02, -4.87252250e-01,\n",
       "         -3.09966290e-01,  8.86192253e-04],\n",
       "        [ 7.87374128e-02, -1.82858686e-01,  8.94402533e-01,\n",
       "          9.78165927e-02, -3.88380153e-01],\n",
       "        [-1.34605714e-01, -1.55496811e-01, -7.44893929e-01,\n",
       "         -1.13112321e-01,  6.24532370e-01],\n",
       "        [-5.29779518e-01, -1.12644663e-01,  5.79188567e-01,\n",
       "          5.92633220e-01,  1.41319894e-01],\n",
       "        [-1.02552898e-02, -8.38688872e-01,  4.83084242e-01,\n",
       "          8.02209068e-02,  2.38096674e-01],\n",
       "        [ 6.61610019e-02, -4.41733200e-01, -1.46794969e-01,\n",
       "          6.07860900e-01,  6.39883478e-01],\n",
       "        [ 5.30347290e-01, -7.18589533e-01, -3.19219617e-01,\n",
       "         -1.37439124e-01,  2.85604898e-01],\n",
       "        [-6.75543508e-01, -3.70769923e-01,  7.52999043e-02,\n",
       "         -5.46199851e-02,  6.30489663e-01],\n",
       "        [ 2.42802635e-01, -2.01041468e-01,  1.99884132e-01,\n",
       "         -2.69390452e-01,  8.87752402e-01],\n",
       "        [ 4.08837133e-01, -2.55920227e-02,  6.57291417e-01,\n",
       "          4.57829720e-01,  4.36528564e-01],\n",
       "        [-7.14166286e-01,  4.05782253e-01,  2.28837805e-02,\n",
       "          3.26729757e-01, -4.66938195e-01],\n",
       "        [-4.11602276e-01,  5.80560039e-01,  4.06558567e-01,\n",
       "         -5.17909767e-01, -2.44975943e-01],\n",
       "        [-7.77814423e-01, -3.43540686e-01,  3.72068833e-01,\n",
       "         -2.12759284e-01, -3.05422315e-01],\n",
       "        [ 1.46282134e-01, -6.65200998e-01,  2.23094958e-01,\n",
       "         -4.39564283e-01, -5.41406548e-01],\n",
       "        [-6.12614636e-01,  5.94014792e-01,  1.88597477e-01,\n",
       "          1.11584663e-01,  4.73106319e-01],\n",
       "        [ 3.00796636e-01,  1.16316523e-01,  1.00279138e-03,\n",
       "         -9.15250912e-01, -2.41467623e-01],\n",
       "        [-2.09883085e-01,  3.87237710e-01, -1.62465373e-01,\n",
       "         -7.06100324e-01,  5.30116385e-01]]))"
      ]
     },
     "execution_count": 23,
     "metadata": {},
     "output_type": "execute_result"
    }
   ],
   "source": [
    "%%time\n",
    "sol = smart_multiopt(func, X0, 500, 3, (10, 20, 500, 1e-6, 0.01, True)) \n",
    "func(sol), sol"
   ]
  },
  {
   "cell_type": "code",
   "execution_count": 29,
   "id": "65e0a0d9-e8e2-4583-8f55-9b2f7f2ecd17",
   "metadata": {},
   "outputs": [
    {
     "data": {
      "text/plain": [
       "(array([[ 0.27879257,  0.13878979,  0.35574351,  0.57443725, -0.66819196],\n",
       "        [-0.34573026,  0.1945035 ,  0.60927004,  0.06328803, -0.68368386],\n",
       "        [-0.31603339, -0.93826551, -0.09164673,  0.09978158, -0.03775236],\n",
       "        [-0.31603341, -0.9382655 , -0.09164673,  0.09978157, -0.03775243],\n",
       "        [-0.04199607,  0.75991589, -0.05579608,  0.64619224, -0.00930329],\n",
       "        [-0.32462903,  0.10409748,  0.82296442, -0.07056516,  0.44892073],\n",
       "        [-0.1049878 , -0.23263497,  0.67893831, -0.67265204,  0.14642586],\n",
       "        [ 0.55010275,  0.66958323, -0.16384303, -0.40124731, -0.24738901],\n",
       "        [ 0.54996345,  0.66972626, -0.16397061, -0.40110108, -0.24746413],\n",
       "        [ 0.32701065, -0.36684876, -0.51162245, -0.69575472,  0.11248939]]),\n",
       " array([0.58727547, 0.70662514, 0.45977432, 0.45977432, 0.85023046,\n",
       "        0.39264088, 0.99886882, 0.88125026, 0.88125023, 0.81966643]),\n",
       " array([1.17712992, 1.18304987, 1.07446924, 0.88831068, 1.16148698,\n",
       "        0.94431946, 1.04688056, 1.02625744, 0.94092116, 1.03935417]))"
      ]
     },
     "execution_count": 29,
     "metadata": {},
     "output_type": "execute_result"
    }
   ],
   "source": [
    "mins = sample_potential_minimums(sol, 10)\n",
    "mins, potentials_in_points(sol, mins), potentials_in_points(sol, renorm(np.random.randn(10, 5)))"
   ]
  },
  {
   "cell_type": "markdown",
   "id": "ce608e0e-083e-4672-a316-f497efc64c0a",
   "metadata": {},
   "source": [
    "### spherical Voronoi is too heavy in dimension >=10"
   ]
  },
  {
   "cell_type": "code",
   "execution_count": null,
   "id": "ffa83bf6-3540-4200-96ad-c18bee730815",
   "metadata": {},
   "outputs": [],
   "source": []
  }
 ],
 "metadata": {
  "kernelspec": {
   "display_name": "Python 3 (ipykernel)",
   "language": "python",
   "name": "python3"
  },
  "language_info": {
   "codemirror_mode": {
    "name": "ipython",
    "version": 3
   },
   "file_extension": ".py",
   "mimetype": "text/x-python",
   "name": "python",
   "nbconvert_exporter": "python",
   "pygments_lexer": "ipython3",
   "version": "3.12.5"
  }
 },
 "nbformat": 4,
 "nbformat_minor": 5
}
