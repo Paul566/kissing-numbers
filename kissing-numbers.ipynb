{
 "cells": [
  {
   "cell_type": "code",
   "execution_count": 1,
   "id": "e7265dc5-376d-48c2-82c2-cc01b6c88e6f",
   "metadata": {},
   "outputs": [],
   "source": [
    "import numpy as np\n",
    "import matplotlib.pyplot as plt\n",
    "from scipy.spatial import SphericalVoronoi\n",
    "from src import *"
   ]
  },
  {
   "cell_type": "code",
   "execution_count": 2,
   "id": "c662098b-db33-4479-8ab8-751df9aa6215",
   "metadata": {},
   "outputs": [],
   "source": [
    "def annealing(func, X0, neighbor_func, temperature_schedule, max_iter, tol=1e-8):\n",
    "    current_solution = X0\n",
    "    current_objective = func(current_solution)\n",
    "    \n",
    "    best_solution = current_solution\n",
    "    best_objective = current_objective\n",
    "    \n",
    "    for t in range(max_iter):\n",
    "        temperature = temperature_schedule(t)\n",
    "\n",
    "        neighbor = neighbor_func(current_solution)\n",
    "        neighbor_objective = func(neighbor)\n",
    "        \n",
    "        delta = neighbor_objective - current_objective\n",
    "        acceptance_probability = np.exp(-delta / temperature) if delta > 0 else 1.0\n",
    "        \n",
    "        if np.random.rand() < acceptance_probability:\n",
    "            current_solution = neighbor\n",
    "            current_objective = neighbor_objective\n",
    "        \n",
    "        if current_objective < best_objective:\n",
    "            best_solution = current_solution\n",
    "            best_objective = current_objective\n",
    "            if current_objective < tol:\n",
    "                break\n",
    "\n",
    "        print(f\"temp: {temperature:.4f}, \\tcur_obj: {current_objective}, \\tbest_obj: {best_objective}\")\n",
    "    \n",
    "    return best_solution, best_objective"
   ]
  },
  {
   "cell_type": "code",
   "execution_count": 3,
   "id": "a35286d8-ed40-4d27-bef2-6b79c5929e4e",
   "metadata": {},
   "outputs": [],
   "source": [
    "def change_random_row(x):\n",
    "    index = np.random.randint(len(x))\n",
    "    r = 2 + np.random.randn() / 2\n",
    "    delta = np.random.randn(len(x[index]))\n",
    "    delta = delta / np.linalg.norm(delta) * r\n",
    "\n",
    "    new_x0 = x.copy()\n",
    "    new_x0[index] = new_x0[index] + delta\n",
    "\n",
    "    return renorm(new_x0)"
   ]
  },
  {
   "cell_type": "code",
   "execution_count": 4,
   "id": "d39b30c4-1e0c-4fc3-bfa3-635743cff02a",
   "metadata": {},
   "outputs": [],
   "source": [
    "def neighbor(x, gd_params=(300, 1e-6, 0.01, True)):\n",
    "    new_x0 = change_random_row(x)\n",
    "    return accelerated_gradient(func, grad, new_x0, *gd_params)"
   ]
  },
  {
   "cell_type": "code",
   "execution_count": 5,
   "id": "3a88f361-13be-4e7e-9c90-89e83c9582b5",
   "metadata": {},
   "outputs": [],
   "source": [
    "def neighbor_kdt(x, params=(10, 30, 500, 1e-6, 0.01, True)):\n",
    "    new_x0 = change_random_row(x)\n",
    "    return accelerated_gradient_kdt(func, new_x0, *params)"
   ]
  },
  {
   "cell_type": "code",
   "execution_count": 6,
   "id": "2009ea2f-0713-4611-8c9a-8987545541d9",
   "metadata": {},
   "outputs": [],
   "source": [
    "def temperature(iteration, max_iter, t_init, t_final):\n",
    "    return t_init - (t_init - t_final) * iteration / max_iter"
   ]
  },
  {
   "cell_type": "code",
   "execution_count": 7,
   "id": "0212802a-6cb1-4530-8c29-6eefa55d84e9",
   "metadata": {},
   "outputs": [],
   "source": [
    "def k_opt_step(func, x, k, params, tol=1e-6, silent=False):\n",
    "    # also returns if the search was successful\n",
    "    \n",
    "    current_obj = func(x)\n",
    "\n",
    "    for i in range(len(x)**k):\n",
    "        candidate = x.copy()\n",
    "        for j in range(k):\n",
    "            candidate = change_random_row(candidate)\n",
    "        # candidate = accelerated_gradient(func, grad, candidate, *gd_params)\n",
    "        candidate = accelerated_gradient_kdt(func, candidate, *params)\n",
    "        if func(candidate) < current_obj - tol:\n",
    "            return candidate, True\n",
    "\n",
    "        if not silent and i > 0:\n",
    "            if i % 100 == 0:\n",
    "                print(f\"i = {i} \\tout of {len(x)**k}\")\n",
    "\n",
    "    return x, False"
   ]
  },
  {
   "cell_type": "code",
   "execution_count": 8,
   "id": "7a4ad06a-a78b-414b-a255-8141eef4e4ea",
   "metadata": {},
   "outputs": [],
   "source": [
    "def multiopt(func, x0, params, tol=1e-6):\n",
    "    x = x0.copy()\n",
    "    cur_obj = func(x)\n",
    "\n",
    "    k = 1\n",
    "    \n",
    "    while cur_obj > tol:\n",
    "        if func(x) < tol:\n",
    "            break\n",
    "        print(f\"k: {k}, \\tcur_obj: {func(x):.8f}\")\n",
    "        \n",
    "        x, succ = k_opt_step(func, x, k, params)\n",
    "        if not succ:\n",
    "            k += 1\n",
    "        else:\n",
    "            k = 1\n",
    "\n",
    "    return x"
   ]
  },
  {
   "cell_type": "code",
   "execution_count": 9,
   "id": "0f825ec2-2b28-4408-9731-9c26045e45ec",
   "metadata": {},
   "outputs": [],
   "source": [
    "n = 11\n",
    "N = 400\n",
    "X0 = renorm(np.random.randn(N,n))"
   ]
  },
  {
   "cell_type": "markdown",
   "id": "a2186bd0-d2d6-4072-a1fc-836b214bc945",
   "metadata": {},
   "source": [
    "sol = multiopt(func, X0, (10, 30, 500, 1e-6, 0.01, True))\n",
    "func(sol), sol"
   ]
  },
  {
   "cell_type": "code",
   "execution_count": 10,
   "id": "24efd3d8-b5b4-46b2-8c59-9a1fff98529e",
   "metadata": {},
   "outputs": [],
   "source": [
    "max_iter = 100\n",
    "t_max = 0.1\n",
    "t_min = 0"
   ]
  },
  {
   "cell_type": "markdown",
   "id": "d0830feb-3948-4899-9f00-1b00498ec29f",
   "metadata": {},
   "source": [
    "sol, obj = annealing(func, X0, neighbor, lambda t: temperature(t, max_iter, t_max, t_min), max_iter)\n",
    "func(sol), sol"
   ]
  },
  {
   "cell_type": "code",
   "execution_count": null,
   "id": "497dfcab-1191-4489-b942-6dd1cf4c120a",
   "metadata": {},
   "outputs": [],
   "source": []
  },
  {
   "cell_type": "code",
   "execution_count": null,
   "id": "3ec13bd1-cb94-42bb-afbe-56285fc03f58",
   "metadata": {},
   "outputs": [],
   "source": []
  },
  {
   "cell_type": "code",
   "execution_count": null,
   "id": "adc3928d-9bb3-4c79-8562-e7cc8743a1ed",
   "metadata": {},
   "outputs": [],
   "source": []
  },
  {
   "cell_type": "code",
   "execution_count": 11,
   "id": "3face27c-ebf9-430c-825e-27584c8c4440",
   "metadata": {},
   "outputs": [],
   "source": [
    "n = 2\n",
    "N = 6\n",
    "X0 = renorm(np.random.randn(N,n))"
   ]
  },
  {
   "cell_type": "code",
   "execution_count": 12,
   "id": "eb5bf157-b6c6-4e04-8e75-0a488f5a8d94",
   "metadata": {},
   "outputs": [],
   "source": [
    "sv = SphericalVoronoi(X0, 1, np.zeros_like(X0[0]))"
   ]
  },
  {
   "cell_type": "code",
   "execution_count": 13,
   "id": "0fe7e46a-4388-41f9-9e0b-132190cb480e",
   "metadata": {},
   "outputs": [
    {
     "data": {
      "text/plain": [
       "(-1.1, 1.1)"
      ]
     },
     "execution_count": 13,
     "metadata": {},
     "output_type": "execute_result"
    },
    {
     "data": {
      "text/plain": [
       "<Figure size 700x700 with 0 Axes>"
      ]
     },
     "metadata": {},
     "output_type": "display_data"
    },
    {
     "data": {
      "image/png": "[encoded data removed]",
      "text/plain": [
       "<Figure size 640x480 with 1 Axes>"
      ]
     },
     "metadata": {},
     "output_type": "display_data"
    }
   ],
   "source": [
    "plt.figure(figsize=(7,7))\n",
    "fig, ax = plt.subplots()\n",
    "ax.set_aspect(1)\n",
    "circle = plt.Circle((0, 0), 1, fill=False)\n",
    "ax.add_patch(circle)\n",
    "plt.scatter(X0[:,0], X0[:,1], c='r')\n",
    "plt.scatter(sv.vertices[:,0], sv.vertices[:,1], c='g')\n",
    "plt.xlim(-1.1, 1.1)\n",
    "plt.ylim(-1.1, 1.1)"
   ]
  },
  {
   "cell_type": "code",
   "execution_count": 14,
   "id": "af4a068b-1f20-45e9-aa68-5988ebae6151",
   "metadata": {},
   "outputs": [],
   "source": [
    "def potentials(X):\n",
    "    # returns a vector of potentials for each point in X\n",
    "    squared_norms = np.sum(X**2, axis=1)\n",
    "    squared_dists = squared_norms[:, np.newaxis] + squared_norms - 2 * X @ X.T\n",
    "    squared_dists = np.minimum(squared_dists, 1)\n",
    "    potentials_pairwise = (1 - squared_dists)**2\n",
    "    return np.sum(potentials_pairwise, axis=1) - np.ones(len(X))"
   ]
  },
  {
   "cell_type": "code",
   "execution_count": 167,
   "id": "8c1feb09-777c-40f4-9dd7-dc8b3720c18c",
   "metadata": {},
   "outputs": [],
   "source": [
    "def potentials_in_points(X, points, tree):\n",
    "    # returns a vector of potentials for each point in points\n",
    "    dists, inds = tree.query(points, k=len(X), distance_upper_bound=1)\n",
    "    dists = np.minimum(dists, 1)\n",
    "    potentials_pairwise = (1 - dists**2)**2\n",
    "    return np.sum(potentials_pairwise, axis=1)"
   ]
  },
  {
   "cell_type": "code",
   "execution_count": null,
   "id": "fdca4098-ff88-4b08-bb40-5011fae4b6d3",
   "metadata": {},
   "outputs": [],
   "source": []
  },
  {
   "cell_type": "code",
   "execution_count": 183,
   "id": "698452f6-3be2-4cc9-8325-59291644410c",
   "metadata": {},
   "outputs": [],
   "source": [
    "def smart_k_opt(func, x, k, num_tries, t_max, params, tol=1e-6, silent=False):\n",
    "    # also returns if the search was successful\n",
    "    \n",
    "    current_obj = func(x)\n",
    "    sv = SphericalVoronoi(x, 1, np.zeros_like(x[0]))\n",
    "    sv_vertices = sv.vertices\n",
    "    \n",
    "    # potentials_x = potentials(x)\n",
    "    # potentials_x = np.maximum(0, potentials(x))\n",
    "    # potentials_x = potentials_x / np.max(potentials_x)\n",
    "\n",
    "    tree = KDTree(x)\n",
    "\n",
    "    closest_dists, _ = tree.query(x, k=1)\n",
    "    potentials_x = np.maximum(0, 1 - closest_dists)\n",
    "    potentials_x = potentials_x / np.max(potentials_x)\n",
    "    \n",
    "    potentials_vertices = np.maximum(0, potentials_in_points(x, sv_vertices, tree))\n",
    "    potentials_vertices = potentials_vertices / np.max(potentials_vertices)\n",
    "\n",
    "    for i in range(num_tries):\n",
    "        probas_x = np.exp(potentials_x * t_max * (num_tries - i) / num_tries)\n",
    "        probas_x = probas_x / np.sum(probas_x)\n",
    "        probas_vertices = np.exp(- potentials_vertices * t_max * (num_tries - i) / num_tries)\n",
    "        probas_vertices = probas_vertices / np.sum(probas_vertices)\n",
    "        \n",
    "        candidate = x.copy()\n",
    "        index_x = np.random.choice(np.arange(len(x)), k, p=probas_x, replace=False)\n",
    "        np.random.shuffle(index_x)\n",
    "        index_vertex = np.random.choice(np.arange(len(sv_vertices)), k, p=probas_vertices, replace=False)\n",
    "        np.random.shuffle(index_vertex)\n",
    "        candidate[index_x] = sv_vertices[index_vertex].copy()\n",
    "        candidate = accelerated_gradient_kdt(func, candidate, *params)\n",
    "        if func(candidate) < current_obj - tol:\n",
    "            print(f\"success at iteration {i}\")\n",
    "            return candidate, True\n",
    "\n",
    "        if not silent and i > 0:\n",
    "            if i % 100 == 0:\n",
    "                print(f\"i = {i} \\tout of {num_tries}\")\n",
    "\n",
    "    print(f\"no success after {num_tries} iterations\")\n",
    "    return x, False"
   ]
  },
  {
   "cell_type": "code",
   "execution_count": 184,
   "id": "0bd9647a-ec90-41ba-a679-813d6791ab9a",
   "metadata": {},
   "outputs": [],
   "source": [
    "def smart_multiopt(func, x0, ceiling_iters, t_max, params, tol=1e-6):\n",
    "    x = x0.copy()\n",
    "    cur_obj = func(x)\n",
    "\n",
    "    k = 1\n",
    "    \n",
    "    while cur_obj > tol:\n",
    "        if func(x) < tol:\n",
    "            break\n",
    "        print(f\"k: {k}, \\tcur_obj: {func(x):.8f}\")\n",
    "\n",
    "        \n",
    "        x, succ = smart_k_opt(func, x, k, np.minimum(ceiling_iters, len(x0)**np.minimum(k, 2)), t_max, params)\n",
    "        if not succ:\n",
    "            k += 1\n",
    "        else:\n",
    "            k = 1\n",
    "\n",
    "    return x"
   ]
  },
  {
   "cell_type": "code",
   "execution_count": 204,
   "id": "e08bb3b7-6e20-4b95-a5eb-0eb111d44df3",
   "metadata": {},
   "outputs": [],
   "source": [
    "n = 5\n",
    "N = 40\n",
    "X0 = renorm(np.random.randn(N,n))"
   ]
  },
  {
   "cell_type": "code",
   "execution_count": 205,
   "id": "f0ee1334-f3fd-42a9-af14-891fcd665528",
   "metadata": {},
   "outputs": [
    {
     "name": "stdout",
     "output_type": "stream",
     "text": [
      "CPU times: user 10.5 ms, sys: 2 ms, total: 12.5 ms\n",
      "Wall time: 10 ms\n"
     ]
    },
    {
     "data": {
      "text/plain": [
       "558"
      ]
     },
     "execution_count": 205,
     "metadata": {},
     "output_type": "execute_result"
    }
   ],
   "source": [
    "%%time\n",
    "sv = SphericalVoronoi(X0, 1, np.zeros_like(X0[0]))\n",
    "len(sv.vertices)"
   ]
  },
  {
   "cell_type": "code",
   "execution_count": 206,
   "id": "e08f7d9d-a2b0-400b-b327-1b4d73363a49",
   "metadata": {},
   "outputs": [
    {
     "name": "stdout",
     "output_type": "stream",
     "text": [
      "k: 1, \tcur_obj: 24.22542272\n",
      "success at iteration 0\n",
      "k: 1, \tcur_obj: 0.09081265\n",
      "success at iteration 1\n",
      "k: 1, \tcur_obj: 0.05480840\n",
      "success at iteration 4\n",
      "k: 1, \tcur_obj: 0.05479258\n",
      "no success after 40 iterations\n",
      "k: 2, \tcur_obj: 0.05479258\n",
      "success at iteration 12\n",
      "k: 1, \tcur_obj: 0.03164674\n",
      "success at iteration 2\n",
      "k: 1, \tcur_obj: 0.02980448\n",
      "success at iteration 7\n",
      "k: 1, \tcur_obj: 0.02971770\n",
      "success at iteration 2\n",
      "k: 1, \tcur_obj: 0.02960328\n",
      "success at iteration 16\n",
      "k: 1, \tcur_obj: 0.02958912\n",
      "success at iteration 4\n",
      "k: 1, \tcur_obj: 0.02957054\n",
      "no success after 40 iterations\n",
      "k: 2, \tcur_obj: 0.02957054\n",
      "success at iteration 91\n",
      "k: 1, \tcur_obj: 0.02956854\n",
      "no success after 40 iterations\n",
      "k: 2, \tcur_obj: 0.02956854\n",
      "i = 100 \tout of 500\n",
      "i = 200 \tout of 500\n",
      "i = 300 \tout of 500\n"
     ]
    },
    {
     "ename": "KeyboardInterrupt",
     "evalue": "",
     "output_type": "error",
     "traceback": [
      "\u001b[0;31m---------------------------------------------------------------------------\u001b[0m",
      "\u001b[0;31mKeyboardInterrupt\u001b[0m                         Traceback (most recent call last)",
      "Cell \u001b[0;32mIn[206], line 1\u001b[0m\n\u001b[0;32m----> 1\u001b[0m sol \u001b[38;5;241m=\u001b[39m \u001b[43msmart_multiopt\u001b[49m\u001b[43m(\u001b[49m\u001b[43mfunc\u001b[49m\u001b[43m,\u001b[49m\u001b[43m \u001b[49m\u001b[43mX0\u001b[49m\u001b[43m,\u001b[49m\u001b[43m \u001b[49m\u001b[38;5;241;43m500\u001b[39;49m\u001b[43m,\u001b[49m\u001b[43m \u001b[49m\u001b[38;5;241;43m3\u001b[39;49m\u001b[43m,\u001b[49m\u001b[43m \u001b[49m\u001b[43m(\u001b[49m\u001b[38;5;241;43m10\u001b[39;49m\u001b[43m,\u001b[49m\u001b[43m \u001b[49m\u001b[38;5;241;43m20\u001b[39;49m\u001b[43m,\u001b[49m\u001b[43m \u001b[49m\u001b[38;5;241;43m500\u001b[39;49m\u001b[43m,\u001b[49m\u001b[43m \u001b[49m\u001b[38;5;241;43m1e-6\u001b[39;49m\u001b[43m,\u001b[49m\u001b[43m \u001b[49m\u001b[38;5;241;43m0.01\u001b[39;49m\u001b[43m,\u001b[49m\u001b[43m \u001b[49m\u001b[38;5;28;43;01mTrue\u001b[39;49;00m\u001b[43m)\u001b[49m\u001b[43m)\u001b[49m \n\u001b[1;32m      2\u001b[0m func(sol), sol\n",
      "Cell \u001b[0;32mIn[184], line 13\u001b[0m, in \u001b[0;36msmart_multiopt\u001b[0;34m(func, x0, ceiling_iters, t_max, params, tol)\u001b[0m\n\u001b[1;32m      9\u001b[0m     \u001b[38;5;28;01mbreak\u001b[39;00m\n\u001b[1;32m     10\u001b[0m \u001b[38;5;28mprint\u001b[39m(\u001b[38;5;124mf\u001b[39m\u001b[38;5;124m\"\u001b[39m\u001b[38;5;124mk: \u001b[39m\u001b[38;5;132;01m{\u001b[39;00mk\u001b[38;5;132;01m}\u001b[39;00m\u001b[38;5;124m, \u001b[39m\u001b[38;5;130;01m\\t\u001b[39;00m\u001b[38;5;124mcur_obj: \u001b[39m\u001b[38;5;132;01m{\u001b[39;00mfunc(x)\u001b[38;5;132;01m:\u001b[39;00m\u001b[38;5;124m.8f\u001b[39m\u001b[38;5;132;01m}\u001b[39;00m\u001b[38;5;124m\"\u001b[39m)\n\u001b[0;32m---> 13\u001b[0m x, succ \u001b[38;5;241m=\u001b[39m \u001b[43msmart_k_opt\u001b[49m\u001b[43m(\u001b[49m\u001b[43mfunc\u001b[49m\u001b[43m,\u001b[49m\u001b[43m \u001b[49m\u001b[43mx\u001b[49m\u001b[43m,\u001b[49m\u001b[43m \u001b[49m\u001b[43mk\u001b[49m\u001b[43m,\u001b[49m\u001b[43m \u001b[49m\u001b[43mnp\u001b[49m\u001b[38;5;241;43m.\u001b[39;49m\u001b[43mminimum\u001b[49m\u001b[43m(\u001b[49m\u001b[43mceiling_iters\u001b[49m\u001b[43m,\u001b[49m\u001b[43m \u001b[49m\u001b[38;5;28;43mlen\u001b[39;49m\u001b[43m(\u001b[49m\u001b[43mx0\u001b[49m\u001b[43m)\u001b[49m\u001b[38;5;241;43m*\u001b[39;49m\u001b[38;5;241;43m*\u001b[39;49m\u001b[43mnp\u001b[49m\u001b[38;5;241;43m.\u001b[39;49m\u001b[43mminimum\u001b[49m\u001b[43m(\u001b[49m\u001b[43mk\u001b[49m\u001b[43m,\u001b[49m\u001b[43m \u001b[49m\u001b[38;5;241;43m2\u001b[39;49m\u001b[43m)\u001b[49m\u001b[43m)\u001b[49m\u001b[43m,\u001b[49m\u001b[43m \u001b[49m\u001b[43mt_max\u001b[49m\u001b[43m,\u001b[49m\u001b[43m \u001b[49m\u001b[43mparams\u001b[49m\u001b[43m)\u001b[49m\n\u001b[1;32m     14\u001b[0m \u001b[38;5;28;01mif\u001b[39;00m \u001b[38;5;129;01mnot\u001b[39;00m succ:\n\u001b[1;32m     15\u001b[0m     k \u001b[38;5;241m+\u001b[39m\u001b[38;5;241m=\u001b[39m \u001b[38;5;241m1\u001b[39m\n",
      "Cell \u001b[0;32mIn[183], line 33\u001b[0m, in \u001b[0;36msmart_k_opt\u001b[0;34m(func, x, k, num_tries, t_max, params, tol, silent)\u001b[0m\n\u001b[1;32m     31\u001b[0m np\u001b[38;5;241m.\u001b[39mrandom\u001b[38;5;241m.\u001b[39mshuffle(index_vertex)\n\u001b[1;32m     32\u001b[0m candidate[index_x] \u001b[38;5;241m=\u001b[39m sv_vertices[index_vertex]\u001b[38;5;241m.\u001b[39mcopy()\n\u001b[0;32m---> 33\u001b[0m candidate \u001b[38;5;241m=\u001b[39m \u001b[43maccelerated_gradient_kdt\u001b[49m\u001b[43m(\u001b[49m\u001b[43mfunc\u001b[49m\u001b[43m,\u001b[49m\u001b[43m \u001b[49m\u001b[43mcandidate\u001b[49m\u001b[43m,\u001b[49m\u001b[43m \u001b[49m\u001b[38;5;241;43m*\u001b[39;49m\u001b[43mparams\u001b[49m\u001b[43m)\u001b[49m\n\u001b[1;32m     34\u001b[0m \u001b[38;5;28;01mif\u001b[39;00m func(candidate) \u001b[38;5;241m<\u001b[39m current_obj \u001b[38;5;241m-\u001b[39m tol:\n\u001b[1;32m     35\u001b[0m     \u001b[38;5;28mprint\u001b[39m(\u001b[38;5;124mf\u001b[39m\u001b[38;5;124m\"\u001b[39m\u001b[38;5;124msuccess at iteration \u001b[39m\u001b[38;5;132;01m{\u001b[39;00mi\u001b[38;5;132;01m}\u001b[39;00m\u001b[38;5;124m\"\u001b[39m)\n",
      "File \u001b[0;32m~/Documents/Experiments/kissing-numbers/src.py:112\u001b[0m, in \u001b[0;36maccelerated_gradient_kdt\u001b[0;34m(func, x0, recomp_tree, num_neighbors, num_iter, tol, alpha, restart, adapt_step, alpha_min)\u001b[0m\n\u001b[1;32m    110\u001b[0m         \u001b[38;5;28;01mbreak\u001b[39;00m\n\u001b[1;32m    111\u001b[0m     x \u001b[38;5;241m=\u001b[39m x_next\u001b[38;5;241m.\u001b[39mcopy()\n\u001b[0;32m--> 112\u001b[0m     g \u001b[38;5;241m=\u001b[39m \u001b[43mgrad_kdtree\u001b[49m\u001b[43m(\u001b[49m\u001b[43mx\u001b[49m\u001b[43m,\u001b[49m\u001b[43m \u001b[49m\u001b[43minds\u001b[49m\u001b[43m)\u001b[49m\n\u001b[1;32m    113\u001b[0m     k \u001b[38;5;241m+\u001b[39m\u001b[38;5;241m=\u001b[39m \u001b[38;5;241m1\u001b[39m\n\u001b[1;32m    114\u001b[0m \u001b[38;5;28;01mreturn\u001b[39;00m x\n",
      "File \u001b[0;32m~/Documents/Experiments/kissing-numbers/src.py:40\u001b[0m, in \u001b[0;36mgrad_kdtree\u001b[0;34m(X, inds)\u001b[0m\n\u001b[1;32m     37\u001b[0m \u001b[38;5;28;01mdef\u001b[39;00m \u001b[38;5;21mgrad_kdtree\u001b[39m(X, inds):\n\u001b[1;32m     38\u001b[0m     differences \u001b[38;5;241m=\u001b[39m X[:, np\u001b[38;5;241m.\u001b[39mnewaxis, :] \u001b[38;5;241m-\u001b[39m X[inds[:, \u001b[38;5;241m1\u001b[39m:]]\n\u001b[0;32m---> 40\u001b[0m     dists \u001b[38;5;241m=\u001b[39m np\u001b[38;5;241m.\u001b[39mminimum(\u001b[43mnp\u001b[49m\u001b[38;5;241;43m.\u001b[39;49m\u001b[43mlinalg\u001b[49m\u001b[38;5;241;43m.\u001b[39;49m\u001b[43mnorm\u001b[49m\u001b[43m(\u001b[49m\u001b[43mdifferences\u001b[49m\u001b[43m,\u001b[49m\u001b[43m \u001b[49m\u001b[43maxis\u001b[49m\u001b[38;5;241;43m=\u001b[39;49m\u001b[38;5;241;43m2\u001b[39;49m\u001b[43m)\u001b[49m, \u001b[38;5;241m1\u001b[39m)\n\u001b[1;32m     41\u001b[0m     multipliers \u001b[38;5;241m=\u001b[39m \u001b[38;5;241m4\u001b[39m \u001b[38;5;241m*\u001b[39m (dists\u001b[38;5;241m*\u001b[39m\u001b[38;5;241m*\u001b[39m\u001b[38;5;241m2\u001b[39m \u001b[38;5;241m-\u001b[39m \u001b[38;5;241m1\u001b[39m)\n\u001b[1;32m     43\u001b[0m     grads \u001b[38;5;241m=\u001b[39m differences \u001b[38;5;241m*\u001b[39m multipliers[:, :, np\u001b[38;5;241m.\u001b[39mnewaxis]\n",
      "File \u001b[0;32m~/.config/jupyterlab-desktop/jlab_server/lib/python3.12/site-packages/numpy/linalg/_linalg.py:2562\u001b[0m, in \u001b[0;36m_norm_dispatcher\u001b[0;34m(x, ord, axis, keepdims)\u001b[0m\n\u001b[1;32m   2558\u001b[0m     result \u001b[38;5;241m=\u001b[39m op(svd(y, compute_uv\u001b[38;5;241m=\u001b[39m\u001b[38;5;28;01mFalse\u001b[39;00m), axis\u001b[38;5;241m=\u001b[39m\u001b[38;5;241m-\u001b[39m\u001b[38;5;241m1\u001b[39m)\n\u001b[1;32m   2559\u001b[0m     \u001b[38;5;28;01mreturn\u001b[39;00m result\n\u001b[0;32m-> 2562\u001b[0m \u001b[38;5;28;01mdef\u001b[39;00m \u001b[38;5;21m_norm_dispatcher\u001b[39m(x, \u001b[38;5;28mord\u001b[39m\u001b[38;5;241m=\u001b[39m\u001b[38;5;28;01mNone\u001b[39;00m, axis\u001b[38;5;241m=\u001b[39m\u001b[38;5;28;01mNone\u001b[39;00m, keepdims\u001b[38;5;241m=\u001b[39m\u001b[38;5;28;01mNone\u001b[39;00m):\n\u001b[1;32m   2563\u001b[0m     \u001b[38;5;28;01mreturn\u001b[39;00m (x,)\n\u001b[1;32m   2566\u001b[0m \u001b[38;5;129m@array_function_dispatch\u001b[39m(_norm_dispatcher)\n\u001b[1;32m   2567\u001b[0m \u001b[38;5;28;01mdef\u001b[39;00m \u001b[38;5;21mnorm\u001b[39m(x, \u001b[38;5;28mord\u001b[39m\u001b[38;5;241m=\u001b[39m\u001b[38;5;28;01mNone\u001b[39;00m, axis\u001b[38;5;241m=\u001b[39m\u001b[38;5;28;01mNone\u001b[39;00m, keepdims\u001b[38;5;241m=\u001b[39m\u001b[38;5;28;01mFalse\u001b[39;00m):\n",
      "\u001b[0;31mKeyboardInterrupt\u001b[0m: "
     ]
    }
   ],
   "source": [
    "sol = smart_multiopt(func, X0, 500, 3, (10, 20, 500, 1e-6, 0.01, True)) \n",
    "func(sol), sol"
   ]
  },
  {
   "cell_type": "markdown",
   "id": "ce608e0e-083e-4672-a316-f497efc64c0a",
   "metadata": {},
   "source": [
    "### spherical Voronoi is too heavy in dimension >=10"
   ]
  },
  {
   "cell_type": "code",
   "execution_count": null,
   "id": "ffa83bf6-3540-4200-96ad-c18bee730815",
   "metadata": {},
   "outputs": [],
   "source": []
  }
 ],
 "metadata": {
  "kernelspec": {
   "display_name": "Python 3 (ipykernel)",
   "language": "python",
   "name": "python3"
  },
  "language_info": {
   "codemirror_mode": {
    "name": "ipython",
    "version": 3
   },
   "file_extension": ".py",
   "mimetype": "text/x-python",
   "name": "python",
   "nbconvert_exporter": "python",
   "pygments_lexer": "ipython3",
   "version": "3.12.5"
  }
 },
 "nbformat": 4,
 "nbformat_minor": 5
}
